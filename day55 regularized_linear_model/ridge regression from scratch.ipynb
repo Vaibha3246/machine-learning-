{
 "cells": [
  {
   "cell_type": "code",
   "execution_count": 143,
   "metadata": {},
   "outputs": [],
   "source": [
    "from sklearn.datasets import load_diabetes\n",
    "\n",
    "from sklearn.metrics import r2_score\n",
    "import numpy as np"
   ]
  },
  {
   "cell_type": "code",
   "execution_count": null,
   "metadata": {},
   "outputs": [],
   "source": []
  },
  {
   "cell_type": "code",
   "execution_count": 164,
   "metadata": {},
   "outputs": [
    {
     "name": "stdout",
     "output_type": "stream",
     "text": [
      "Ridge R^2 score: 0.46931288533098037\n",
      "MeraRidge R^2 score: 0.4693128853309805\n"
     ]
    }
   ],
   "source": [
    "\n",
    "from sklearn.model_selection import train_test_split\n",
    "\n",
    "# Load data\n",
    "X, y = load_diabetes(return_X_y=True)\n",
    "X_train, X_test, y_train, y_test = train_test_split(X, y, test_size=0.2, random_state=4)\n",
    "\n",
    "# Standard Ridge Regression for comparison\n",
    "from sklearn.linear_model import Ridge\n",
    "reg = Ridge(alpha=0.1, solver='cholesky')\n",
    "reg.fit(X_train, y_train)\n",
    "y_pred = reg.predict(X_test)\n",
    "print(f\"Ridge R^2 score: {r2_score(y_test, y_pred)}\")\n",
    "\n",
    "# Custom Ridge Regression Class\n",
    "class MeraRidge:\n",
    "    def __init__(self, alpha=0.1):\n",
    "        self.alpha = alpha\n",
    "        self.coef_ = None\n",
    "        self.intercept_ = None\n",
    "\n",
    "    def fit(self, X_train, y_train):\n",
    "        # Add a column of ones to X_train for the intercept\n",
    "        X_train = np.insert(X_train, 0, 1, axis=1)\n",
    "        # Identity matrix for Ridge regularization\n",
    "        I = np.identity(X_train.shape[1])\n",
    "        I[0, 0] = 0  # No regularization for the intercept term\n",
    "        # Calculate the coefficients using Ridge formula\n",
    "        result = np.linalg.inv(np.dot(X_train.T, X_train) + self.alpha * I).dot(X_train.T).dot(y_train)\n",
    "        self.intercept_ = result[0]  # First element is the intercept\n",
    "        self.coef_ = result[1:]      # Remaining elements are the coefficients\n",
    "\n",
    "    def predict(self, X_test):\n",
    "        # Predict using the intercept and coefficients\n",
    "        return np.dot(X_test, self.coef_) + self.intercept_\n",
    "\n",
    "# Using the custom Ridge Regression\n",
    "mr = MeraRidge(alpha=0.1)\n",
    "mr.fit(X_train, y_train)\n",
    "y_pred_custom = mr.predict(X_test)\n",
    "print(f\"MeraRidge R^2 score: {r2_score(y_test, y_pred_custom)}\")\n"
   ]
  },
  {
   "cell_type": "code",
   "execution_count": 165,
   "metadata": {},
   "outputs": [
    {
     "name": "stdout",
     "output_type": "stream",
     "text": [
      "Ridge R^2 score: 0.46931288533098037\n"
     ]
    }
   ],
   "source": [
    "\n",
    "from sklearn.model_selection import train_test_split\n",
    "\n",
    "# Load data\n",
    "X, y = load_diabetes(return_X_y=True)\n",
    "X_train, X_test, y_train, y_test = train_test_split(X, y, test_size=0.2, random_state=4)\n",
    "\n",
    "# Standard Ridge Regression for comparison\n",
    "from sklearn.linear_model import Ridge\n",
    "reg = Ridge(alpha=0.1, solver='cholesky')\n",
    "reg.fit(X_train, y_train)\n",
    "y_pred = reg.predict(X_test)\n",
    "print(f\"Ridge R^2 score: {r2_score(y_test, y_pred)}\")\n"
   ]
  },
  {
   "cell_type": "code",
   "execution_count": 166,
   "metadata": {},
   "outputs": [
    {
     "data": {
      "text/plain": [
       "array([  44.02063391, -241.69329987,  452.98665299,  332.04420177,\n",
       "        -76.33686744,  -68.52143809, -164.98809083,  149.96908118,\n",
       "        431.61347417,   58.51862681])"
      ]
     },
     "execution_count": 166,
     "metadata": {},
     "output_type": "execute_result"
    }
   ],
   "source": [
    "reg.coef_"
   ]
  },
  {
   "cell_type": "code",
   "execution_count": 167,
   "metadata": {},
   "outputs": [
    {
     "data": {
      "text/plain": [
       "150.89053425602808"
      ]
     },
     "execution_count": 167,
     "metadata": {},
     "output_type": "execute_result"
    }
   ],
   "source": [
    "reg.intercept_"
   ]
  },
  {
   "cell_type": "code",
   "execution_count": 168,
   "metadata": {},
   "outputs": [],
   "source": [
    "# Custom Ridge Regression Class\n",
    "class MeraRidge:\n",
    "    def __init__(self, alpha=0.1):\n",
    "        self.alpha = alpha\n",
    "        self.coef_ = None\n",
    "        self.intercept_ = None\n",
    "\n",
    "    def fit(self, X_train, y_train):\n",
    "        # Add a column of ones to X_train for the intercept\n",
    "        X_train = np.insert(X_train, 0, 1, axis=1)\n",
    "        # Identity matrix for Ridge regularization\n",
    "        I = np.identity(X_train.shape[1])\n",
    "        I[0, 0] = 0  # No regularization for the intercept term\n",
    "        # Calculate the coefficients using Ridge formula\n",
    "        result = np.linalg.inv(np.dot(X_train.T, X_train) + self.alpha * I).dot(X_train.T).dot(y_train)\n",
    "        self.intercept_ = result[0]  # First element is the intercept\n",
    "        self.coef_ = result[1:]      # Remaining elements are the coefficients\n",
    "\n",
    "    def predict(self, X_test):\n",
    "        # Predict using the intercept and coefficients\n",
    "        return np.dot(X_test, self.coef_) + self.intercept_\n",
    "\n",
    "\n"
   ]
  },
  {
   "cell_type": "code",
   "execution_count": 169,
   "metadata": {},
   "outputs": [
    {
     "name": "stdout",
     "output_type": "stream",
     "text": [
      "MeraRidge R^2 score: 0.4693128853309805\n"
     ]
    }
   ],
   "source": [
    "#  Using the custom Ridge Regression\n",
    "mr = MeraRidge(alpha=0.1)\n",
    "mr.fit(X_train, y_train)\n",
    "y_pred_custom = mr.predict(X_test)\n",
    "print(f\"MeraRidge R^2 score: {r2_score(y_test, y_pred_custom)}\")"
   ]
  },
  {
   "cell_type": "code",
   "execution_count": 171,
   "metadata": {},
   "outputs": [
    {
     "data": {
      "text/plain": [
       "array([  44.02063391, -241.69329987,  452.98665299,  332.04420177,\n",
       "        -76.33686744,  -68.52143809, -164.98809083,  149.96908118,\n",
       "        431.61347417,   58.51862681])"
      ]
     },
     "execution_count": 171,
     "metadata": {},
     "output_type": "execute_result"
    }
   ],
   "source": [
    "mr.coef_"
   ]
  },
  {
   "cell_type": "code",
   "execution_count": 172,
   "metadata": {},
   "outputs": [
    {
     "data": {
      "text/plain": [
       "150.89053425602808"
      ]
     },
     "execution_count": 172,
     "metadata": {},
     "output_type": "execute_result"
    }
   ],
   "source": [
    "mr.intercept_"
   ]
  },
  {
   "cell_type": "code",
   "execution_count": null,
   "metadata": {},
   "outputs": [],
   "source": []
  }
 ],
 "metadata": {
  "kernelspec": {
   "display_name": "Python 3",
   "language": "python",
   "name": "python3"
  },
  "language_info": {
   "codemirror_mode": {
    "name": "ipython",
    "version": 3
   },
   "file_extension": ".py",
   "mimetype": "text/x-python",
   "name": "python",
   "nbconvert_exporter": "python",
   "pygments_lexer": "ipython3",
   "version": "3.11.9"
  }
 },
 "nbformat": 4,
 "nbformat_minor": 2
}
