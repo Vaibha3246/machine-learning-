{
 "cells": [
  {
   "cell_type": "code",
   "execution_count": 49,
   "metadata": {},
   "outputs": [],
   "source": [
    "import pandas as pd\n",
    "import numpy as np \n",
    "\n",
    "from sklearn.model_selection import train_test_split\n",
    "\n",
    "from sklearn.impute import SimpleImputer ,MissingIndicator\n",
    "\n"
   ]
  },
  {
   "cell_type": "code",
   "execution_count": 50,
   "metadata": {},
   "outputs": [],
   "source": [
    "df=pd.read_csv('C:/Users/vaibh/Downloads/train (2).csv',usecols=['Age','Fare','Survived'])"
   ]
  },
  {
   "cell_type": "code",
   "execution_count": 51,
   "metadata": {},
   "outputs": [
    {
     "data": {
      "text/html": [
       "<div>\n",
       "<style scoped>\n",
       "    .dataframe tbody tr th:only-of-type {\n",
       "        vertical-align: middle;\n",
       "    }\n",
       "\n",
       "    .dataframe tbody tr th {\n",
       "        vertical-align: top;\n",
       "    }\n",
       "\n",
       "    .dataframe thead th {\n",
       "        text-align: right;\n",
       "    }\n",
       "</style>\n",
       "<table border=\"1\" class=\"dataframe\">\n",
       "  <thead>\n",
       "    <tr style=\"text-align: right;\">\n",
       "      <th></th>\n",
       "      <th>Survived</th>\n",
       "      <th>Age</th>\n",
       "      <th>Fare</th>\n",
       "    </tr>\n",
       "  </thead>\n",
       "  <tbody>\n",
       "    <tr>\n",
       "      <th>0</th>\n",
       "      <td>0</td>\n",
       "      <td>22.0</td>\n",
       "      <td>7.2500</td>\n",
       "    </tr>\n",
       "    <tr>\n",
       "      <th>1</th>\n",
       "      <td>1</td>\n",
       "      <td>38.0</td>\n",
       "      <td>71.2833</td>\n",
       "    </tr>\n",
       "    <tr>\n",
       "      <th>2</th>\n",
       "      <td>1</td>\n",
       "      <td>26.0</td>\n",
       "      <td>7.9250</td>\n",
       "    </tr>\n",
       "    <tr>\n",
       "      <th>3</th>\n",
       "      <td>1</td>\n",
       "      <td>35.0</td>\n",
       "      <td>53.1000</td>\n",
       "    </tr>\n",
       "    <tr>\n",
       "      <th>4</th>\n",
       "      <td>0</td>\n",
       "      <td>35.0</td>\n",
       "      <td>8.0500</td>\n",
       "    </tr>\n",
       "  </tbody>\n",
       "</table>\n",
       "</div>"
      ],
      "text/plain": [
       "   Survived   Age     Fare\n",
       "0         0  22.0   7.2500\n",
       "1         1  38.0  71.2833\n",
       "2         1  26.0   7.9250\n",
       "3         1  35.0  53.1000\n",
       "4         0  35.0   8.0500"
      ]
     },
     "execution_count": 51,
     "metadata": {},
     "output_type": "execute_result"
    }
   ],
   "source": [
    "df.head()"
   ]
  },
  {
   "cell_type": "code",
   "execution_count": 52,
   "metadata": {},
   "outputs": [
    {
     "data": {
      "text/plain": [
       "Survived      0\n",
       "Age         177\n",
       "Fare          0\n",
       "dtype: int64"
      ]
     },
     "execution_count": 52,
     "metadata": {},
     "output_type": "execute_result"
    }
   ],
   "source": [
    "df.isnull().sum()"
   ]
  },
  {
   "cell_type": "code",
   "execution_count": 53,
   "metadata": {},
   "outputs": [],
   "source": [
    "x=df.drop(columns=['Survived'])\n",
    "\n",
    "y=df.iloc[:,0]"
   ]
  },
  {
   "cell_type": "code",
   "execution_count": 54,
   "metadata": {},
   "outputs": [
    {
     "data": {
      "text/plain": [
       "0      0\n",
       "1      1\n",
       "2      1\n",
       "3      1\n",
       "4      0\n",
       "      ..\n",
       "886    0\n",
       "887    1\n",
       "888    0\n",
       "889    1\n",
       "890    0\n",
       "Name: Survived, Length: 891, dtype: int64"
      ]
     },
     "execution_count": 54,
     "metadata": {},
     "output_type": "execute_result"
    }
   ],
   "source": [
    "y"
   ]
  },
  {
   "cell_type": "code",
   "execution_count": 55,
   "metadata": {},
   "outputs": [],
   "source": [
    "x_train,x_test,y_train,y_test=train_test_split(x,y,test_size=.3,random_state=2)"
   ]
  },
  {
   "cell_type": "code",
   "execution_count": 56,
   "metadata": {},
   "outputs": [],
   "source": [
    "si=SimpleImputer()"
   ]
  },
  {
   "cell_type": "code",
   "execution_count": 57,
   "metadata": {},
   "outputs": [],
   "source": [
    "x_train_trf=si.fit_transform(x_train)\n",
    "\n",
    "x_test_trf=si.transform(x_test)"
   ]
  },
  {
   "cell_type": "code",
   "execution_count": 58,
   "metadata": {},
   "outputs": [
    {
     "data": {
      "text/plain": [
       "array([[ 29.5005123,  19.9667   ],\n",
       "       [ 24.       ,  13.       ],\n",
       "       [ 19.       ,  10.1708   ],\n",
       "       ...,\n",
       "       [ 71.       ,  49.5042   ],\n",
       "       [ 29.5005123, 221.7792   ],\n",
       "       [ 29.5005123,  25.925    ]])"
      ]
     },
     "execution_count": 58,
     "metadata": {},
     "output_type": "execute_result"
    }
   ],
   "source": [
    "x_train_trf"
   ]
  },
  {
   "cell_type": "code",
   "execution_count": 59,
   "metadata": {},
   "outputs": [
    {
     "data": {
      "text/plain": [
       "array([[ 42.       ,  26.2875   ],\n",
       "       [ 21.       ,   8.05     ],\n",
       "       [ 24.       ,  65.       ],\n",
       "       [ 28.       ,  56.4958   ],\n",
       "       [ 17.       ,   7.925    ],\n",
       "       [ 30.       ,   7.8958   ],\n",
       "       [ 80.       ,  30.       ],\n",
       "       [ 25.       ,   7.25     ],\n",
       "       [ 50.       , 133.65     ],\n",
       "       [ 25.       ,  26.       ],\n",
       "       [ 35.       ,  26.       ],\n",
       "       [ 35.       ,  90.       ],\n",
       "       [ 55.       ,  16.       ],\n",
       "       [ 29.5005123,  56.4958   ],\n",
       "       [ 29.5005123,  56.4958   ],\n",
       "       [ 19.       ,   7.8542   ],\n",
       "       [ 29.5005123,  15.2458   ],\n",
       "       [ 49.       ,   0.       ],\n",
       "       [ 18.       ,  14.4542   ],\n",
       "       [ 65.       ,   7.75     ],\n",
       "       [ 18.       , 108.9      ],\n",
       "       [ 29.5005123,  22.3583   ],\n",
       "       [ 16.       ,  18.       ],\n",
       "       [ 21.       ,   9.825    ],\n",
       "       [ 19.       ,   6.75     ],\n",
       "       [  1.       ,  11.1333   ],\n",
       "       [ 50.       ,  10.5      ],\n",
       "       [ 37.       ,  53.1      ],\n",
       "       [ 28.       ,   9.5      ],\n",
       "       [ 54.       ,  14.       ],\n",
       "       [ 20.       ,   7.925    ],\n",
       "       [ 36.       ,   0.       ],\n",
       "       [  6.       ,  31.275    ],\n",
       "       [ 29.5005123,  50.       ],\n",
       "       [ 40.       ,  31.       ],\n",
       "       [ 26.       ,  16.1      ],\n",
       "       [ 30.       ,  93.5      ],\n",
       "       [  1.       ,  46.9      ],\n",
       "       [ 29.5005123,   7.8958   ],\n",
       "       [ 35.       ,  10.5      ],\n",
       "       [ 38.       ,   7.05     ],\n",
       "       [ 44.       ,  16.1      ],\n",
       "       [ 22.       ,   7.75     ],\n",
       "       [ 18.       ,   6.4958   ],\n",
       "       [ 21.       ,   8.4333   ],\n",
       "       [ 29.5005123, 227.525    ],\n",
       "       [ 21.       ,  77.9583   ],\n",
       "       [ 29.5005123,   8.6625   ],\n",
       "       [ 22.       ,   7.225    ],\n",
       "       [ 27.       ,  10.5      ],\n",
       "       [ 29.5005123,   8.05     ],\n",
       "       [ 51.       ,  26.55     ],\n",
       "       [ 28.       ,  33.       ],\n",
       "       [ 47.       ,  38.5      ],\n",
       "       [ 32.       ,  10.5      ],\n",
       "       [ 48.       ,  52.       ],\n",
       "       [ 10.       ,  24.15     ],\n",
       "       [ 21.       ,   8.6625   ],\n",
       "       [ 51.       ,   7.0542   ],\n",
       "       [ 32.       ,   7.925    ],\n",
       "       [ 42.       ,  13.       ],\n",
       "       [  2.       ,  26.       ],\n",
       "       [ 35.       ,   8.05     ],\n",
       "       [ 29.5005123,   7.25     ],\n",
       "       [  2.       ,  10.4625   ],\n",
       "       [ 33.       ,   9.5      ],\n",
       "       [ 48.       ,  25.9292   ],\n",
       "       [ 55.       ,  30.5      ],\n",
       "       [  1.       ,  39.6875   ],\n",
       "       [ 17.       ,   7.0542   ],\n",
       "       [ 24.       ,  15.85     ],\n",
       "       [ 74.       ,   7.775    ],\n",
       "       [ 29.5005123,  24.15     ],\n",
       "       [ 28.       ,   7.7958   ],\n",
       "       [ 26.       ,   7.8542   ],\n",
       "       [  1.       ,  39.       ],\n",
       "       [ 18.       ,   8.05     ],\n",
       "       [  3.       ,  26.       ],\n",
       "       [ 48.       ,  39.6      ],\n",
       "       [ 32.       ,  56.4958   ],\n",
       "       [ 19.       ,  91.0792   ],\n",
       "       [ 29.5005123,  42.4      ],\n",
       "       [ 70.       ,  10.5      ],\n",
       "       [ 34.       ,  26.       ],\n",
       "       [ 39.       , 110.8833   ],\n",
       "       [ 17.       ,  10.5      ],\n",
       "       [ 38.       ,   8.6625   ],\n",
       "       [ 29.5005123,   7.8958   ],\n",
       "       [ 30.       ,  21.       ],\n",
       "       [ 28.       ,  13.       ],\n",
       "       [ 29.5005123,   7.725    ],\n",
       "       [ 19.       ,   8.1583   ],\n",
       "       [ 29.       ,   7.75     ],\n",
       "       [ 29.5005123,   7.8958   ],\n",
       "       [ 44.       ,   7.925    ],\n",
       "       [ 22.       ,  41.5792   ],\n",
       "       [ 21.       ,  34.375    ],\n",
       "       [ 41.       ,  19.5      ],\n",
       "       [ 29.5005123,   7.225    ],\n",
       "       [ 25.       ,  55.4417   ],\n",
       "       [  0.92     , 151.55     ],\n",
       "       [ 44.       ,  26.       ],\n",
       "       [ 19.       ,  26.       ],\n",
       "       [ 30.       ,  56.9292   ],\n",
       "       [ 20.       ,   9.5      ],\n",
       "       [  5.       ,  12.475    ],\n",
       "       [  4.       ,  39.       ],\n",
       "       [ 29.5005123,  16.1      ],\n",
       "       [ 38.       ,   0.       ],\n",
       "       [ 28.       ,  22.525    ],\n",
       "       [ 29.5005123,  30.       ],\n",
       "       [ 29.       ,   7.775    ],\n",
       "       [ 49.       ,  89.1042   ],\n",
       "       [ 19.       ,  14.5      ],\n",
       "       [ 18.       , 262.375    ],\n",
       "       [ 31.       ,  26.25     ],\n",
       "       [ 27.       ,   7.7958   ],\n",
       "       [ 36.       , 120.       ],\n",
       "       [  8.       ,  36.75     ],\n",
       "       [  2.       ,  21.075    ],\n",
       "       [ 63.       ,  77.9583   ],\n",
       "       [ 31.       ,   7.75     ],\n",
       "       [ 29.5005123,   0.       ],\n",
       "       [ 25.       ,  13.       ],\n",
       "       [ 20.5      ,   7.25     ],\n",
       "       [ 29.5005123,   7.8958   ],\n",
       "       [ 64.       , 263.       ],\n",
       "       [ 19.       ,  26.       ],\n",
       "       [ 18.       ,   7.775    ],\n",
       "       [ 29.5005123,   0.       ],\n",
       "       [ 29.5005123,   7.8958   ],\n",
       "       [ 11.       ,  18.7875   ],\n",
       "       [ 15.       ,  14.4542   ],\n",
       "       [ 22.       ,  55.       ],\n",
       "       [ 50.       ,  13.       ],\n",
       "       [ 28.       ,  14.4      ],\n",
       "       [ 39.       ,  13.       ],\n",
       "       [ 29.5005123,   8.05     ],\n",
       "       [ 39.       ,   7.925    ],\n",
       "       [ 24.       ,  16.1      ],\n",
       "       [ 23.       ,   7.925    ],\n",
       "       [ 17.       ,  57.       ],\n",
       "       [ 44.       ,  26.       ],\n",
       "       [ 23.       ,  13.7917   ],\n",
       "       [ 29.5005123,  26.55     ],\n",
       "       [ 52.       ,  78.2667   ],\n",
       "       [ 24.5      ,   8.05     ],\n",
       "       [ 55.5      ,   8.05     ],\n",
       "       [ 18.       ,   7.7958   ],\n",
       "       [ 18.       ,  13.       ],\n",
       "       [ 45.       ,  83.475    ],\n",
       "       [ 31.       ,  18.       ],\n",
       "       [ 30.5      ,   8.05     ],\n",
       "       [ 42.       ,   8.4042   ],\n",
       "       [ 29.5005123,   7.75     ],\n",
       "       [ 36.       ,   7.4958   ],\n",
       "       [ 34.       ,  26.55     ],\n",
       "       [ 54.       ,  78.2667   ],\n",
       "       [ 15.       ,   8.0292   ],\n",
       "       [ 25.       ,   7.775    ],\n",
       "       [ 26.       ,  30.       ],\n",
       "       [ 29.5005123,   8.1125   ],\n",
       "       [ 19.       ,   8.05     ],\n",
       "       [ 29.       ,   7.8958   ],\n",
       "       [ 19.       ,  30.       ],\n",
       "       [ 33.       ,  90.       ],\n",
       "       [ 36.       ,  24.15     ],\n",
       "       [ 29.5005123,   7.775    ],\n",
       "       [ 35.       , 512.3292   ],\n",
       "       [ 22.       ,   7.25     ],\n",
       "       [ 29.5005123,  16.1      ],\n",
       "       [ 18.       ,   7.4958   ],\n",
       "       [ 28.       ,  26.       ],\n",
       "       [ 22.       ,   7.25     ],\n",
       "       [ 24.       ,   8.05     ],\n",
       "       [ 22.       ,   9.       ],\n",
       "       [ 29.5005123,  69.55     ],\n",
       "       [ 26.       ,   7.8958   ],\n",
       "       [ 29.       ,  10.4625   ],\n",
       "       [ 40.       ,  27.7208   ],\n",
       "       [  4.       ,  16.7      ],\n",
       "       [ 47.       ,   9.       ],\n",
       "       [  9.       ,  31.3875   ],\n",
       "       [ 20.       ,   9.8458   ],\n",
       "       [ 30.       ,  13.       ],\n",
       "       [ 30.       ,   8.05     ],\n",
       "       [ 13.       ,   7.2292   ],\n",
       "       [ 36.       ,  26.3875   ],\n",
       "       [ 29.5005123,   8.05     ],\n",
       "       [ 31.       ,  10.5      ],\n",
       "       [ 38.       ,  71.2833   ],\n",
       "       [ 18.       ,   7.8542   ],\n",
       "       [ 29.5005123,   9.5      ],\n",
       "       [ 25.       ,  91.0792   ],\n",
       "       [ 37.       ,  52.5542   ],\n",
       "       [ 18.       ,   9.8417   ],\n",
       "       [ 35.       ,   8.05     ],\n",
       "       [ 46.       ,  26.       ],\n",
       "       [ 70.5      ,   7.75     ],\n",
       "       [ 48.       ,  76.7292   ],\n",
       "       [ 48.       ,  13.       ],\n",
       "       [ 24.       ,  27.       ],\n",
       "       [ 56.       ,  30.6958   ],\n",
       "       [ 54.       ,  26.       ],\n",
       "       [ 29.5005123, 133.65     ],\n",
       "       [ 16.       ,  46.9      ],\n",
       "       [ 34.       ,   6.4958   ],\n",
       "       [ 29.5005123,  27.7208   ],\n",
       "       [ 43.       ,   6.45     ],\n",
       "       [  2.       ,  31.275    ],\n",
       "       [ 50.       ,  28.7125   ],\n",
       "       [ 60.       ,  26.55     ],\n",
       "       [ 41.       ,  14.1083   ],\n",
       "       [  3.       ,  21.075    ],\n",
       "       [ 39.       ,  31.275    ],\n",
       "       [ 33.       ,  53.1      ],\n",
       "       [ 29.5005123,  69.55     ],\n",
       "       [ 29.5005123,  23.25     ],\n",
       "       [ 37.       ,  29.7      ],\n",
       "       [ 42.       ,   7.65     ],\n",
       "       [ 19.       ,   7.8958   ],\n",
       "       [ 16.       ,  26.       ],\n",
       "       [ 29.5005123,   7.75     ],\n",
       "       [ 24.       ,  13.       ],\n",
       "       [ 45.       ,   6.975    ],\n",
       "       [ 29.       ,   8.05     ],\n",
       "       [ 35.       ,  83.475    ],\n",
       "       [ 29.5005123,   7.75     ],\n",
       "       [ 30.       ,  86.5      ],\n",
       "       [ 17.       ,   8.6625   ],\n",
       "       [ 14.5      ,  14.4542   ],\n",
       "       [ 27.       ,  53.1      ],\n",
       "       [ 57.       ,  12.35     ],\n",
       "       [ 42.       ,  13.       ],\n",
       "       [ 19.       ,  10.5      ],\n",
       "       [ 31.       ,  50.4958   ],\n",
       "       [ 30.       ,   7.2292   ],\n",
       "       [ 30.       ,  12.35     ],\n",
       "       [ 59.       ,  13.5      ],\n",
       "       [ 24.       ,  69.3      ],\n",
       "       [ 39.       ,   0.       ],\n",
       "       [ 23.       ,  13.       ],\n",
       "       [ 27.       ,  76.7292   ],\n",
       "       [ 35.       , 512.3292   ],\n",
       "       [ 23.       ,  10.5      ],\n",
       "       [ 21.       ,  73.5      ],\n",
       "       [ 26.       ,   7.925    ],\n",
       "       [ 24.       ,   8.85     ],\n",
       "       [ 36.       ,  13.       ],\n",
       "       [ 31.       , 164.8667   ],\n",
       "       [ 29.5005123,   7.75     ],\n",
       "       [ 20.       ,   8.05     ],\n",
       "       [  7.       ,  26.25     ],\n",
       "       [ 30.       ,  24.       ],\n",
       "       [ 30.       ,   9.5      ],\n",
       "       [ 29.5005123,   7.775    ],\n",
       "       [ 43.       ,   8.05     ],\n",
       "       [ 45.       ,   8.05     ],\n",
       "       [ 38.       ,   7.8958   ],\n",
       "       [ 24.       ,  16.7      ],\n",
       "       [ 29.5005123,  26.       ],\n",
       "       [ 29.5005123,  15.05     ],\n",
       "       [ 19.       ,   7.8958   ],\n",
       "       [ 30.       ,  31.       ],\n",
       "       [ 31.       ,  52.       ],\n",
       "       [ 44.       ,   8.05     ],\n",
       "       [ 29.5005123,   7.8958   ],\n",
       "       [ 31.       ,   7.8542   ]])"
      ]
     },
     "execution_count": 59,
     "metadata": {},
     "output_type": "execute_result"
    }
   ],
   "source": [
    "x_test_trf"
   ]
  },
  {
   "cell_type": "code",
   "execution_count": 60,
   "metadata": {},
   "outputs": [
    {
     "data": {
      "text/plain": [
       "0.6567164179104478"
      ]
     },
     "execution_count": 60,
     "metadata": {},
     "output_type": "execute_result"
    }
   ],
   "source": [
    "from sklearn.linear_model import LogisticRegression\n",
    "\n",
    "lr=LogisticRegression()\n",
    "\n",
    "lr.fit(x_train_trf,y_train) \n",
    "\n",
    "y_predict=lr.predict(x_test_trf)\n",
    "\n",
    "from sklearn.metrics import accuracy_score\n",
    "\n",
    "accuracy_score(y_test,y_predict)\n"
   ]
  },
  {
   "cell_type": "code",
   "execution_count": 61,
   "metadata": {},
   "outputs": [],
   "source": [
    "# by the help of missing indicator  fil the missing value"
   ]
  },
  {
   "cell_type": "code",
   "execution_count": 62,
   "metadata": {},
   "outputs": [],
   "source": [
    "si=SimpleImputer(add_indicator=True) \n",
    "\n",
    "x_train_trf2=si.fit_transform(x_train)\n",
    "x_test_trf2=si.transform(x_test)"
   ]
  },
  {
   "cell_type": "code",
   "execution_count": 63,
   "metadata": {},
   "outputs": [],
   "source": [
    "from sklearn.linear_model import LogisticRegression \n"
   ]
  },
  {
   "cell_type": "code",
   "execution_count": 64,
   "metadata": {},
   "outputs": [
    {
     "data": {
      "text/plain": [
       "0.6567164179104478"
      ]
     },
     "execution_count": 64,
     "metadata": {},
     "output_type": "execute_result"
    }
   ],
   "source": [
    "lr=LogisticRegression()\n",
    "\n",
    "lr.fit(x_train_trf2,y_train)\n",
    "\n",
    "y_predict2=lr.predict(x_test_trf2) \n",
    "\n",
    "\n",
    "from sklearn.metrics import accuracy_score\n",
    "accuracy_score(y_test,y_predict2)\n"
   ]
  },
  {
   "cell_type": "code",
   "execution_count": null,
   "metadata": {},
   "outputs": [],
   "source": []
  },
  {
   "cell_type": "code",
   "execution_count": 65,
   "metadata": {},
   "outputs": [
    {
     "data": {
      "text/plain": [
       "0.6567164179104478"
      ]
     },
     "execution_count": 65,
     "metadata": {},
     "output_type": "execute_result"
    }
   ],
   "source": [
    "si = SimpleImputer(add_indicator=True)\n",
    "x_train_trf2 = si.fit_transform(x_train)\n",
    "x_test_trf2 = si.transform(x_test)\n",
    "from sklearn.linear_model import LogisticRegression\n",
    "\n",
    "clf = LogisticRegression()\n",
    "\n",
    "clf.fit(x_train_trf2,y_train)\n",
    "\n",
    "y_pred2 = clf.predict(x_test_trf2)\n",
    "\n",
    "from sklearn.metrics import accuracy_score\n",
    "accuracy_score(y_test,y_pred2)"
   ]
  },
  {
   "cell_type": "code",
   "execution_count": null,
   "metadata": {},
   "outputs": [],
   "source": [
    "si = SimpleImputer()\n",
    "X_train_trf = si.fit_transform(x_train)\n",
    "X_test_trf = si.transform(x_test)"
   ]
  },
  {
   "cell_type": "code",
   "execution_count": null,
   "metadata": {},
   "outputs": [],
   "source": []
  }
 ],
 "metadata": {
  "kernelspec": {
   "display_name": "Python 3",
   "language": "python",
   "name": "python3"
  },
  "language_info": {
   "codemirror_mode": {
    "name": "ipython",
    "version": 3
   },
   "file_extension": ".py",
   "mimetype": "text/x-python",
   "name": "python",
   "nbconvert_exporter": "python",
   "pygments_lexer": "ipython3",
   "version": "3.11.9"
  }
 },
 "nbformat": 4,
 "nbformat_minor": 2
}
