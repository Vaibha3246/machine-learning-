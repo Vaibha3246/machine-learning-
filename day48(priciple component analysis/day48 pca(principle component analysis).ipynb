{
 "cells": [
  {
   "cell_type": "code",
   "execution_count": 74,
   "metadata": {},
   "outputs": [],
   "source": [
    "import pandas as pd \n",
    "import numpy as np"
   ]
  },
  {
   "cell_type": "code",
   "execution_count": 75,
   "metadata": {},
   "outputs": [],
   "source": [
    "df=pd.read_csv('C:/Users/vaibh/Downloads/Pizza.csv')"
   ]
  },
  {
   "cell_type": "code",
   "execution_count": 76,
   "metadata": {},
   "outputs": [
    {
     "data": {
      "text/html": [
       "<div>\n",
       "<style scoped>\n",
       "    .dataframe tbody tr th:only-of-type {\n",
       "        vertical-align: middle;\n",
       "    }\n",
       "\n",
       "    .dataframe tbody tr th {\n",
       "        vertical-align: top;\n",
       "    }\n",
       "\n",
       "    .dataframe thead th {\n",
       "        text-align: right;\n",
       "    }\n",
       "</style>\n",
       "<table border=\"1\" class=\"dataframe\">\n",
       "  <thead>\n",
       "    <tr style=\"text-align: right;\">\n",
       "      <th></th>\n",
       "      <th>brand</th>\n",
       "      <th>id</th>\n",
       "      <th>mois</th>\n",
       "      <th>prot</th>\n",
       "      <th>fat</th>\n",
       "      <th>ash</th>\n",
       "      <th>sodium</th>\n",
       "      <th>carb</th>\n",
       "      <th>cal</th>\n",
       "    </tr>\n",
       "  </thead>\n",
       "  <tbody>\n",
       "    <tr>\n",
       "      <th>0</th>\n",
       "      <td>A</td>\n",
       "      <td>14069</td>\n",
       "      <td>27.82</td>\n",
       "      <td>21.43</td>\n",
       "      <td>44.87</td>\n",
       "      <td>5.11</td>\n",
       "      <td>1.77</td>\n",
       "      <td>0.77</td>\n",
       "      <td>4.93</td>\n",
       "    </tr>\n",
       "    <tr>\n",
       "      <th>1</th>\n",
       "      <td>A</td>\n",
       "      <td>14053</td>\n",
       "      <td>28.49</td>\n",
       "      <td>21.26</td>\n",
       "      <td>43.89</td>\n",
       "      <td>5.34</td>\n",
       "      <td>1.79</td>\n",
       "      <td>1.02</td>\n",
       "      <td>4.84</td>\n",
       "    </tr>\n",
       "    <tr>\n",
       "      <th>2</th>\n",
       "      <td>A</td>\n",
       "      <td>14025</td>\n",
       "      <td>28.35</td>\n",
       "      <td>19.99</td>\n",
       "      <td>45.78</td>\n",
       "      <td>5.08</td>\n",
       "      <td>1.63</td>\n",
       "      <td>0.80</td>\n",
       "      <td>4.95</td>\n",
       "    </tr>\n",
       "    <tr>\n",
       "      <th>3</th>\n",
       "      <td>A</td>\n",
       "      <td>14016</td>\n",
       "      <td>30.55</td>\n",
       "      <td>20.15</td>\n",
       "      <td>43.13</td>\n",
       "      <td>4.79</td>\n",
       "      <td>1.61</td>\n",
       "      <td>1.38</td>\n",
       "      <td>4.74</td>\n",
       "    </tr>\n",
       "    <tr>\n",
       "      <th>4</th>\n",
       "      <td>A</td>\n",
       "      <td>14005</td>\n",
       "      <td>30.49</td>\n",
       "      <td>21.28</td>\n",
       "      <td>41.65</td>\n",
       "      <td>4.82</td>\n",
       "      <td>1.64</td>\n",
       "      <td>1.76</td>\n",
       "      <td>4.67</td>\n",
       "    </tr>\n",
       "  </tbody>\n",
       "</table>\n",
       "</div>"
      ],
      "text/plain": [
       "  brand     id   mois   prot    fat   ash  sodium  carb   cal\n",
       "0     A  14069  27.82  21.43  44.87  5.11    1.77  0.77  4.93\n",
       "1     A  14053  28.49  21.26  43.89  5.34    1.79  1.02  4.84\n",
       "2     A  14025  28.35  19.99  45.78  5.08    1.63  0.80  4.95\n",
       "3     A  14016  30.55  20.15  43.13  4.79    1.61  1.38  4.74\n",
       "4     A  14005  30.49  21.28  41.65  4.82    1.64  1.76  4.67"
      ]
     },
     "execution_count": 76,
     "metadata": {},
     "output_type": "execute_result"
    }
   ],
   "source": [
    "df.head()"
   ]
  },
  {
   "cell_type": "code",
   "execution_count": 77,
   "metadata": {},
   "outputs": [
    {
     "data": {
      "text/html": [
       "<div>\n",
       "<style scoped>\n",
       "    .dataframe tbody tr th:only-of-type {\n",
       "        vertical-align: middle;\n",
       "    }\n",
       "\n",
       "    .dataframe tbody tr th {\n",
       "        vertical-align: top;\n",
       "    }\n",
       "\n",
       "    .dataframe thead th {\n",
       "        text-align: right;\n",
       "    }\n",
       "</style>\n",
       "<table border=\"1\" class=\"dataframe\">\n",
       "  <thead>\n",
       "    <tr style=\"text-align: right;\">\n",
       "      <th></th>\n",
       "      <th>brand</th>\n",
       "      <th>id</th>\n",
       "      <th>mois</th>\n",
       "      <th>prot</th>\n",
       "      <th>fat</th>\n",
       "      <th>ash</th>\n",
       "      <th>sodium</th>\n",
       "      <th>carb</th>\n",
       "      <th>cal</th>\n",
       "    </tr>\n",
       "  </thead>\n",
       "  <tbody>\n",
       "    <tr>\n",
       "      <th>196</th>\n",
       "      <td>G</td>\n",
       "      <td>24047</td>\n",
       "      <td>29.06</td>\n",
       "      <td>8.46</td>\n",
       "      <td>14.12</td>\n",
       "      <td>1.47</td>\n",
       "      <td>0.47</td>\n",
       "      <td>46.89</td>\n",
       "      <td>3.48</td>\n",
       "    </tr>\n",
       "    <tr>\n",
       "      <th>246</th>\n",
       "      <td>I</td>\n",
       "      <td>14068</td>\n",
       "      <td>56.25</td>\n",
       "      <td>9.96</td>\n",
       "      <td>13.22</td>\n",
       "      <td>2.05</td>\n",
       "      <td>0.46</td>\n",
       "      <td>18.52</td>\n",
       "      <td>2.33</td>\n",
       "    </tr>\n",
       "    <tr>\n",
       "      <th>205</th>\n",
       "      <td>G</td>\n",
       "      <td>24149</td>\n",
       "      <td>28.64</td>\n",
       "      <td>8.01</td>\n",
       "      <td>16.02</td>\n",
       "      <td>1.43</td>\n",
       "      <td>0.45</td>\n",
       "      <td>45.90</td>\n",
       "      <td>3.60</td>\n",
       "    </tr>\n",
       "    <tr>\n",
       "      <th>54</th>\n",
       "      <td>B</td>\n",
       "      <td>34011</td>\n",
       "      <td>53.98</td>\n",
       "      <td>14.05</td>\n",
       "      <td>24.73</td>\n",
       "      <td>3.32</td>\n",
       "      <td>0.92</td>\n",
       "      <td>3.92</td>\n",
       "      <td>2.94</td>\n",
       "    </tr>\n",
       "    <tr>\n",
       "      <th>53</th>\n",
       "      <td>B</td>\n",
       "      <td>24101</td>\n",
       "      <td>51.03</td>\n",
       "      <td>13.90</td>\n",
       "      <td>27.56</td>\n",
       "      <td>3.73</td>\n",
       "      <td>1.08</td>\n",
       "      <td>3.78</td>\n",
       "      <td>3.19</td>\n",
       "    </tr>\n",
       "  </tbody>\n",
       "</table>\n",
       "</div>"
      ],
      "text/plain": [
       "    brand     id   mois   prot    fat   ash  sodium   carb   cal\n",
       "196     G  24047  29.06   8.46  14.12  1.47    0.47  46.89  3.48\n",
       "246     I  14068  56.25   9.96  13.22  2.05    0.46  18.52  2.33\n",
       "205     G  24149  28.64   8.01  16.02  1.43    0.45  45.90  3.60\n",
       "54      B  34011  53.98  14.05  24.73  3.32    0.92   3.92  2.94\n",
       "53      B  24101  51.03  13.90  27.56  3.73    1.08   3.78  3.19"
      ]
     },
     "execution_count": 77,
     "metadata": {},
     "output_type": "execute_result"
    }
   ],
   "source": [
    "df.sample(5)"
   ]
  },
  {
   "cell_type": "code",
   "execution_count": null,
   "metadata": {},
   "outputs": [],
   "source": [
    "\n"
   ]
  },
  {
   "cell_type": "code",
   "execution_count": 78,
   "metadata": {},
   "outputs": [
    {
     "data": {
      "text/html": [
       "<div>\n",
       "<style scoped>\n",
       "    .dataframe tbody tr th:only-of-type {\n",
       "        vertical-align: middle;\n",
       "    }\n",
       "\n",
       "    .dataframe tbody tr th {\n",
       "        vertical-align: top;\n",
       "    }\n",
       "\n",
       "    .dataframe thead th {\n",
       "        text-align: right;\n",
       "    }\n",
       "</style>\n",
       "<table border=\"1\" class=\"dataframe\">\n",
       "  <thead>\n",
       "    <tr style=\"text-align: right;\">\n",
       "      <th></th>\n",
       "      <th>brand</th>\n",
       "      <th>id</th>\n",
       "      <th>mois</th>\n",
       "      <th>prot</th>\n",
       "      <th>fat</th>\n",
       "      <th>ash</th>\n",
       "      <th>sodium</th>\n",
       "      <th>carb</th>\n",
       "      <th>cal</th>\n",
       "    </tr>\n",
       "  </thead>\n",
       "  <tbody>\n",
       "    <tr>\n",
       "      <th>287</th>\n",
       "      <td>J</td>\n",
       "      <td>34040</td>\n",
       "      <td>44.77</td>\n",
       "      <td>10.52</td>\n",
       "      <td>16.12</td>\n",
       "      <td>2.44</td>\n",
       "      <td>0.66</td>\n",
       "      <td>26.15</td>\n",
       "      <td>2.92</td>\n",
       "    </tr>\n",
       "    <tr>\n",
       "      <th>7</th>\n",
       "      <td>A</td>\n",
       "      <td>14097</td>\n",
       "      <td>28.76</td>\n",
       "      <td>21.41</td>\n",
       "      <td>41.60</td>\n",
       "      <td>5.28</td>\n",
       "      <td>1.75</td>\n",
       "      <td>2.95</td>\n",
       "      <td>4.72</td>\n",
       "    </tr>\n",
       "    <tr>\n",
       "      <th>123</th>\n",
       "      <td>E</td>\n",
       "      <td>14063</td>\n",
       "      <td>34.51</td>\n",
       "      <td>7.75</td>\n",
       "      <td>14.87</td>\n",
       "      <td>1.42</td>\n",
       "      <td>0.42</td>\n",
       "      <td>41.45</td>\n",
       "      <td>3.31</td>\n",
       "    </tr>\n",
       "    <tr>\n",
       "      <th>161</th>\n",
       "      <td>F</td>\n",
       "      <td>24035</td>\n",
       "      <td>27.65</td>\n",
       "      <td>7.78</td>\n",
       "      <td>17.30</td>\n",
       "      <td>1.29</td>\n",
       "      <td>0.40</td>\n",
       "      <td>46.25</td>\n",
       "      <td>3.72</td>\n",
       "    </tr>\n",
       "    <tr>\n",
       "      <th>59</th>\n",
       "      <td>B</td>\n",
       "      <td>24118</td>\n",
       "      <td>51.75</td>\n",
       "      <td>13.18</td>\n",
       "      <td>28.38</td>\n",
       "      <td>3.04</td>\n",
       "      <td>0.86</td>\n",
       "      <td>3.65</td>\n",
       "      <td>3.23</td>\n",
       "    </tr>\n",
       "  </tbody>\n",
       "</table>\n",
       "</div>"
      ],
      "text/plain": [
       "    brand     id   mois   prot    fat   ash  sodium   carb   cal\n",
       "287     J  34040  44.77  10.52  16.12  2.44    0.66  26.15  2.92\n",
       "7       A  14097  28.76  21.41  41.60  5.28    1.75   2.95  4.72\n",
       "123     E  14063  34.51   7.75  14.87  1.42    0.42  41.45  3.31\n",
       "161     F  24035  27.65   7.78  17.30  1.29    0.40  46.25  3.72\n",
       "59      B  24118  51.75  13.18  28.38  3.04    0.86   3.65  3.23"
      ]
     },
     "execution_count": 78,
     "metadata": {},
     "output_type": "execute_result"
    }
   ],
   "source": [
    "df.sample(5)"
   ]
  },
  {
   "cell_type": "code",
   "execution_count": 79,
   "metadata": {},
   "outputs": [],
   "source": [
    "x=df.iloc[:,1:]\n",
    "y=df.iloc[:,0]"
   ]
  },
  {
   "cell_type": "code",
   "execution_count": 80,
   "metadata": {},
   "outputs": [],
   "source": [
    "from sklearn.model_selection import train_test_split"
   ]
  },
  {
   "cell_type": "code",
   "execution_count": 81,
   "metadata": {},
   "outputs": [],
   "source": [
    "x_train,x_test,y_train,y_test=train_test_split(x,y,test_size=.2,random_state=42)"
   ]
  },
  {
   "cell_type": "code",
   "execution_count": 82,
   "metadata": {},
   "outputs": [],
   "source": [
    "from sklearn.preprocessing import StandardScaler"
   ]
  },
  {
   "cell_type": "code",
   "execution_count": 83,
   "metadata": {},
   "outputs": [],
   "source": [
    "scaler=StandardScaler()"
   ]
  },
  {
   "cell_type": "code",
   "execution_count": 84,
   "metadata": {},
   "outputs": [],
   "source": [
    "x_train=scaler.fit_transform(x_train)\n",
    "x_test=scaler.transform(x_test)"
   ]
  },
  {
   "cell_type": "code",
   "execution_count": 85,
   "metadata": {},
   "outputs": [],
   "source": [
    "from sklearn.decomposition import PCA"
   ]
  },
  {
   "cell_type": "code",
   "execution_count": 86,
   "metadata": {},
   "outputs": [],
   "source": [
    "pca=PCA(n_components=None)"
   ]
  },
  {
   "cell_type": "code",
   "execution_count": 87,
   "metadata": {},
   "outputs": [],
   "source": [
    "x_train_trf=pca.fit_transform(x_train)\n",
    "x_test_trf=pca.transform(x_test)"
   ]
  },
  {
   "cell_type": "code",
   "execution_count": 88,
   "metadata": {},
   "outputs": [],
   "source": [
    "from sklearn.neighbors import KNeighborsClassifier"
   ]
  },
  {
   "cell_type": "code",
   "execution_count": 89,
   "metadata": {},
   "outputs": [],
   "source": [
    "knn=KNeighborsClassifier()"
   ]
  },
  {
   "cell_type": "code",
   "execution_count": 90,
   "metadata": {},
   "outputs": [
    {
     "data": {
      "text/html": [
       "<style>#sk-container-id-5 {\n",
       "  /* Definition of color scheme common for light and dark mode */\n",
       "  --sklearn-color-text: black;\n",
       "  --sklearn-color-line: gray;\n",
       "  /* Definition of color scheme for unfitted estimators */\n",
       "  --sklearn-color-unfitted-level-0: #fff5e6;\n",
       "  --sklearn-color-unfitted-level-1: #f6e4d2;\n",
       "  --sklearn-color-unfitted-level-2: #ffe0b3;\n",
       "  --sklearn-color-unfitted-level-3: chocolate;\n",
       "  /* Definition of color scheme for fitted estimators */\n",
       "  --sklearn-color-fitted-level-0: #f0f8ff;\n",
       "  --sklearn-color-fitted-level-1: #d4ebff;\n",
       "  --sklearn-color-fitted-level-2: #b3dbfd;\n",
       "  --sklearn-color-fitted-level-3: cornflowerblue;\n",
       "\n",
       "  /* Specific color for light theme */\n",
       "  --sklearn-color-text-on-default-background: var(--sg-text-color, var(--theme-code-foreground, var(--jp-content-font-color1, black)));\n",
       "  --sklearn-color-background: var(--sg-background-color, var(--theme-background, var(--jp-layout-color0, white)));\n",
       "  --sklearn-color-border-box: var(--sg-text-color, var(--theme-code-foreground, var(--jp-content-font-color1, black)));\n",
       "  --sklearn-color-icon: #696969;\n",
       "\n",
       "  @media (prefers-color-scheme: dark) {\n",
       "    /* Redefinition of color scheme for dark theme */\n",
       "    --sklearn-color-text-on-default-background: var(--sg-text-color, var(--theme-code-foreground, var(--jp-content-font-color1, white)));\n",
       "    --sklearn-color-background: var(--sg-background-color, var(--theme-background, var(--jp-layout-color0, #111)));\n",
       "    --sklearn-color-border-box: var(--sg-text-color, var(--theme-code-foreground, var(--jp-content-font-color1, white)));\n",
       "    --sklearn-color-icon: #878787;\n",
       "  }\n",
       "}\n",
       "\n",
       "#sk-container-id-5 {\n",
       "  color: var(--sklearn-color-text);\n",
       "}\n",
       "\n",
       "#sk-container-id-5 pre {\n",
       "  padding: 0;\n",
       "}\n",
       "\n",
       "#sk-container-id-5 input.sk-hidden--visually {\n",
       "  border: 0;\n",
       "  clip: rect(1px 1px 1px 1px);\n",
       "  clip: rect(1px, 1px, 1px, 1px);\n",
       "  height: 1px;\n",
       "  margin: -1px;\n",
       "  overflow: hidden;\n",
       "  padding: 0;\n",
       "  position: absolute;\n",
       "  width: 1px;\n",
       "}\n",
       "\n",
       "#sk-container-id-5 div.sk-dashed-wrapped {\n",
       "  border: 1px dashed var(--sklearn-color-line);\n",
       "  margin: 0 0.4em 0.5em 0.4em;\n",
       "  box-sizing: border-box;\n",
       "  padding-bottom: 0.4em;\n",
       "  background-color: var(--sklearn-color-background);\n",
       "}\n",
       "\n",
       "#sk-container-id-5 div.sk-container {\n",
       "  /* jupyter's `normalize.less` sets `[hidden] { display: none; }`\n",
       "     but bootstrap.min.css set `[hidden] { display: none !important; }`\n",
       "     so we also need the `!important` here to be able to override the\n",
       "     default hidden behavior on the sphinx rendered scikit-learn.org.\n",
       "     See: https://github.com/scikit-learn/scikit-learn/issues/21755 */\n",
       "  display: inline-block !important;\n",
       "  position: relative;\n",
       "}\n",
       "\n",
       "#sk-container-id-5 div.sk-text-repr-fallback {\n",
       "  display: none;\n",
       "}\n",
       "\n",
       "div.sk-parallel-item,\n",
       "div.sk-serial,\n",
       "div.sk-item {\n",
       "  /* draw centered vertical line to link estimators */\n",
       "  background-image: linear-gradient(var(--sklearn-color-text-on-default-background), var(--sklearn-color-text-on-default-background));\n",
       "  background-size: 2px 100%;\n",
       "  background-repeat: no-repeat;\n",
       "  background-position: center center;\n",
       "}\n",
       "\n",
       "/* Parallel-specific style estimator block */\n",
       "\n",
       "#sk-container-id-5 div.sk-parallel-item::after {\n",
       "  content: \"\";\n",
       "  width: 100%;\n",
       "  border-bottom: 2px solid var(--sklearn-color-text-on-default-background);\n",
       "  flex-grow: 1;\n",
       "}\n",
       "\n",
       "#sk-container-id-5 div.sk-parallel {\n",
       "  display: flex;\n",
       "  align-items: stretch;\n",
       "  justify-content: center;\n",
       "  background-color: var(--sklearn-color-background);\n",
       "  position: relative;\n",
       "}\n",
       "\n",
       "#sk-container-id-5 div.sk-parallel-item {\n",
       "  display: flex;\n",
       "  flex-direction: column;\n",
       "}\n",
       "\n",
       "#sk-container-id-5 div.sk-parallel-item:first-child::after {\n",
       "  align-self: flex-end;\n",
       "  width: 50%;\n",
       "}\n",
       "\n",
       "#sk-container-id-5 div.sk-parallel-item:last-child::after {\n",
       "  align-self: flex-start;\n",
       "  width: 50%;\n",
       "}\n",
       "\n",
       "#sk-container-id-5 div.sk-parallel-item:only-child::after {\n",
       "  width: 0;\n",
       "}\n",
       "\n",
       "/* Serial-specific style estimator block */\n",
       "\n",
       "#sk-container-id-5 div.sk-serial {\n",
       "  display: flex;\n",
       "  flex-direction: column;\n",
       "  align-items: center;\n",
       "  background-color: var(--sklearn-color-background);\n",
       "  padding-right: 1em;\n",
       "  padding-left: 1em;\n",
       "}\n",
       "\n",
       "\n",
       "/* Toggleable style: style used for estimator/Pipeline/ColumnTransformer box that is\n",
       "clickable and can be expanded/collapsed.\n",
       "- Pipeline and ColumnTransformer use this feature and define the default style\n",
       "- Estimators will overwrite some part of the style using the `sk-estimator` class\n",
       "*/\n",
       "\n",
       "/* Pipeline and ColumnTransformer style (default) */\n",
       "\n",
       "#sk-container-id-5 div.sk-toggleable {\n",
       "  /* Default theme specific background. It is overwritten whether we have a\n",
       "  specific estimator or a Pipeline/ColumnTransformer */\n",
       "  background-color: var(--sklearn-color-background);\n",
       "}\n",
       "\n",
       "/* Toggleable label */\n",
       "#sk-container-id-5 label.sk-toggleable__label {\n",
       "  cursor: pointer;\n",
       "  display: block;\n",
       "  width: 100%;\n",
       "  margin-bottom: 0;\n",
       "  padding: 0.5em;\n",
       "  box-sizing: border-box;\n",
       "  text-align: center;\n",
       "}\n",
       "\n",
       "#sk-container-id-5 label.sk-toggleable__label-arrow:before {\n",
       "  /* Arrow on the left of the label */\n",
       "  content: \"▸\";\n",
       "  float: left;\n",
       "  margin-right: 0.25em;\n",
       "  color: var(--sklearn-color-icon);\n",
       "}\n",
       "\n",
       "#sk-container-id-5 label.sk-toggleable__label-arrow:hover:before {\n",
       "  color: var(--sklearn-color-text);\n",
       "}\n",
       "\n",
       "/* Toggleable content - dropdown */\n",
       "\n",
       "#sk-container-id-5 div.sk-toggleable__content {\n",
       "  max-height: 0;\n",
       "  max-width: 0;\n",
       "  overflow: hidden;\n",
       "  text-align: left;\n",
       "  /* unfitted */\n",
       "  background-color: var(--sklearn-color-unfitted-level-0);\n",
       "}\n",
       "\n",
       "#sk-container-id-5 div.sk-toggleable__content.fitted {\n",
       "  /* fitted */\n",
       "  background-color: var(--sklearn-color-fitted-level-0);\n",
       "}\n",
       "\n",
       "#sk-container-id-5 div.sk-toggleable__content pre {\n",
       "  margin: 0.2em;\n",
       "  border-radius: 0.25em;\n",
       "  color: var(--sklearn-color-text);\n",
       "  /* unfitted */\n",
       "  background-color: var(--sklearn-color-unfitted-level-0);\n",
       "}\n",
       "\n",
       "#sk-container-id-5 div.sk-toggleable__content.fitted pre {\n",
       "  /* unfitted */\n",
       "  background-color: var(--sklearn-color-fitted-level-0);\n",
       "}\n",
       "\n",
       "#sk-container-id-5 input.sk-toggleable__control:checked~div.sk-toggleable__content {\n",
       "  /* Expand drop-down */\n",
       "  max-height: 200px;\n",
       "  max-width: 100%;\n",
       "  overflow: auto;\n",
       "}\n",
       "\n",
       "#sk-container-id-5 input.sk-toggleable__control:checked~label.sk-toggleable__label-arrow:before {\n",
       "  content: \"▾\";\n",
       "}\n",
       "\n",
       "/* Pipeline/ColumnTransformer-specific style */\n",
       "\n",
       "#sk-container-id-5 div.sk-label input.sk-toggleable__control:checked~label.sk-toggleable__label {\n",
       "  color: var(--sklearn-color-text);\n",
       "  background-color: var(--sklearn-color-unfitted-level-2);\n",
       "}\n",
       "\n",
       "#sk-container-id-5 div.sk-label.fitted input.sk-toggleable__control:checked~label.sk-toggleable__label {\n",
       "  background-color: var(--sklearn-color-fitted-level-2);\n",
       "}\n",
       "\n",
       "/* Estimator-specific style */\n",
       "\n",
       "/* Colorize estimator box */\n",
       "#sk-container-id-5 div.sk-estimator input.sk-toggleable__control:checked~label.sk-toggleable__label {\n",
       "  /* unfitted */\n",
       "  background-color: var(--sklearn-color-unfitted-level-2);\n",
       "}\n",
       "\n",
       "#sk-container-id-5 div.sk-estimator.fitted input.sk-toggleable__control:checked~label.sk-toggleable__label {\n",
       "  /* fitted */\n",
       "  background-color: var(--sklearn-color-fitted-level-2);\n",
       "}\n",
       "\n",
       "#sk-container-id-5 div.sk-label label.sk-toggleable__label,\n",
       "#sk-container-id-5 div.sk-label label {\n",
       "  /* The background is the default theme color */\n",
       "  color: var(--sklearn-color-text-on-default-background);\n",
       "}\n",
       "\n",
       "/* On hover, darken the color of the background */\n",
       "#sk-container-id-5 div.sk-label:hover label.sk-toggleable__label {\n",
       "  color: var(--sklearn-color-text);\n",
       "  background-color: var(--sklearn-color-unfitted-level-2);\n",
       "}\n",
       "\n",
       "/* Label box, darken color on hover, fitted */\n",
       "#sk-container-id-5 div.sk-label.fitted:hover label.sk-toggleable__label.fitted {\n",
       "  color: var(--sklearn-color-text);\n",
       "  background-color: var(--sklearn-color-fitted-level-2);\n",
       "}\n",
       "\n",
       "/* Estimator label */\n",
       "\n",
       "#sk-container-id-5 div.sk-label label {\n",
       "  font-family: monospace;\n",
       "  font-weight: bold;\n",
       "  display: inline-block;\n",
       "  line-height: 1.2em;\n",
       "}\n",
       "\n",
       "#sk-container-id-5 div.sk-label-container {\n",
       "  text-align: center;\n",
       "}\n",
       "\n",
       "/* Estimator-specific */\n",
       "#sk-container-id-5 div.sk-estimator {\n",
       "  font-family: monospace;\n",
       "  border: 1px dotted var(--sklearn-color-border-box);\n",
       "  border-radius: 0.25em;\n",
       "  box-sizing: border-box;\n",
       "  margin-bottom: 0.5em;\n",
       "  /* unfitted */\n",
       "  background-color: var(--sklearn-color-unfitted-level-0);\n",
       "}\n",
       "\n",
       "#sk-container-id-5 div.sk-estimator.fitted {\n",
       "  /* fitted */\n",
       "  background-color: var(--sklearn-color-fitted-level-0);\n",
       "}\n",
       "\n",
       "/* on hover */\n",
       "#sk-container-id-5 div.sk-estimator:hover {\n",
       "  /* unfitted */\n",
       "  background-color: var(--sklearn-color-unfitted-level-2);\n",
       "}\n",
       "\n",
       "#sk-container-id-5 div.sk-estimator.fitted:hover {\n",
       "  /* fitted */\n",
       "  background-color: var(--sklearn-color-fitted-level-2);\n",
       "}\n",
       "\n",
       "/* Specification for estimator info (e.g. \"i\" and \"?\") */\n",
       "\n",
       "/* Common style for \"i\" and \"?\" */\n",
       "\n",
       ".sk-estimator-doc-link,\n",
       "a:link.sk-estimator-doc-link,\n",
       "a:visited.sk-estimator-doc-link {\n",
       "  float: right;\n",
       "  font-size: smaller;\n",
       "  line-height: 1em;\n",
       "  font-family: monospace;\n",
       "  background-color: var(--sklearn-color-background);\n",
       "  border-radius: 1em;\n",
       "  height: 1em;\n",
       "  width: 1em;\n",
       "  text-decoration: none !important;\n",
       "  margin-left: 1ex;\n",
       "  /* unfitted */\n",
       "  border: var(--sklearn-color-unfitted-level-1) 1pt solid;\n",
       "  color: var(--sklearn-color-unfitted-level-1);\n",
       "}\n",
       "\n",
       ".sk-estimator-doc-link.fitted,\n",
       "a:link.sk-estimator-doc-link.fitted,\n",
       "a:visited.sk-estimator-doc-link.fitted {\n",
       "  /* fitted */\n",
       "  border: var(--sklearn-color-fitted-level-1) 1pt solid;\n",
       "  color: var(--sklearn-color-fitted-level-1);\n",
       "}\n",
       "\n",
       "/* On hover */\n",
       "div.sk-estimator:hover .sk-estimator-doc-link:hover,\n",
       ".sk-estimator-doc-link:hover,\n",
       "div.sk-label-container:hover .sk-estimator-doc-link:hover,\n",
       ".sk-estimator-doc-link:hover {\n",
       "  /* unfitted */\n",
       "  background-color: var(--sklearn-color-unfitted-level-3);\n",
       "  color: var(--sklearn-color-background);\n",
       "  text-decoration: none;\n",
       "}\n",
       "\n",
       "div.sk-estimator.fitted:hover .sk-estimator-doc-link.fitted:hover,\n",
       ".sk-estimator-doc-link.fitted:hover,\n",
       "div.sk-label-container:hover .sk-estimator-doc-link.fitted:hover,\n",
       ".sk-estimator-doc-link.fitted:hover {\n",
       "  /* fitted */\n",
       "  background-color: var(--sklearn-color-fitted-level-3);\n",
       "  color: var(--sklearn-color-background);\n",
       "  text-decoration: none;\n",
       "}\n",
       "\n",
       "/* Span, style for the box shown on hovering the info icon */\n",
       ".sk-estimator-doc-link span {\n",
       "  display: none;\n",
       "  z-index: 9999;\n",
       "  position: relative;\n",
       "  font-weight: normal;\n",
       "  right: .2ex;\n",
       "  padding: .5ex;\n",
       "  margin: .5ex;\n",
       "  width: min-content;\n",
       "  min-width: 20ex;\n",
       "  max-width: 50ex;\n",
       "  color: var(--sklearn-color-text);\n",
       "  box-shadow: 2pt 2pt 4pt #999;\n",
       "  /* unfitted */\n",
       "  background: var(--sklearn-color-unfitted-level-0);\n",
       "  border: .5pt solid var(--sklearn-color-unfitted-level-3);\n",
       "}\n",
       "\n",
       ".sk-estimator-doc-link.fitted span {\n",
       "  /* fitted */\n",
       "  background: var(--sklearn-color-fitted-level-0);\n",
       "  border: var(--sklearn-color-fitted-level-3);\n",
       "}\n",
       "\n",
       ".sk-estimator-doc-link:hover span {\n",
       "  display: block;\n",
       "}\n",
       "\n",
       "/* \"?\"-specific style due to the `<a>` HTML tag */\n",
       "\n",
       "#sk-container-id-5 a.estimator_doc_link {\n",
       "  float: right;\n",
       "  font-size: 1rem;\n",
       "  line-height: 1em;\n",
       "  font-family: monospace;\n",
       "  background-color: var(--sklearn-color-background);\n",
       "  border-radius: 1rem;\n",
       "  height: 1rem;\n",
       "  width: 1rem;\n",
       "  text-decoration: none;\n",
       "  /* unfitted */\n",
       "  color: var(--sklearn-color-unfitted-level-1);\n",
       "  border: var(--sklearn-color-unfitted-level-1) 1pt solid;\n",
       "}\n",
       "\n",
       "#sk-container-id-5 a.estimator_doc_link.fitted {\n",
       "  /* fitted */\n",
       "  border: var(--sklearn-color-fitted-level-1) 1pt solid;\n",
       "  color: var(--sklearn-color-fitted-level-1);\n",
       "}\n",
       "\n",
       "/* On hover */\n",
       "#sk-container-id-5 a.estimator_doc_link:hover {\n",
       "  /* unfitted */\n",
       "  background-color: var(--sklearn-color-unfitted-level-3);\n",
       "  color: var(--sklearn-color-background);\n",
       "  text-decoration: none;\n",
       "}\n",
       "\n",
       "#sk-container-id-5 a.estimator_doc_link.fitted:hover {\n",
       "  /* fitted */\n",
       "  background-color: var(--sklearn-color-fitted-level-3);\n",
       "}\n",
       "</style><div id=\"sk-container-id-5\" class=\"sk-top-container\"><div class=\"sk-text-repr-fallback\"><pre>KNeighborsClassifier()</pre><b>In a Jupyter environment, please rerun this cell to show the HTML representation or trust the notebook. <br />On GitHub, the HTML representation is unable to render, please try loading this page with nbviewer.org.</b></div><div class=\"sk-container\" hidden><div class=\"sk-item\"><div class=\"sk-estimator fitted sk-toggleable\"><input class=\"sk-toggleable__control sk-hidden--visually\" id=\"sk-estimator-id-5\" type=\"checkbox\" checked><label for=\"sk-estimator-id-5\" class=\"sk-toggleable__label fitted sk-toggleable__label-arrow fitted\">&nbsp;&nbsp;KNeighborsClassifier<a class=\"sk-estimator-doc-link fitted\" rel=\"noreferrer\" target=\"_blank\" href=\"https://scikit-learn.org/1.5/modules/generated/sklearn.neighbors.KNeighborsClassifier.html\">?<span>Documentation for KNeighborsClassifier</span></a><span class=\"sk-estimator-doc-link fitted\">i<span>Fitted</span></span></label><div class=\"sk-toggleable__content fitted\"><pre>KNeighborsClassifier()</pre></div> </div></div></div></div>"
      ],
      "text/plain": [
       "KNeighborsClassifier()"
      ]
     },
     "execution_count": 90,
     "metadata": {},
     "output_type": "execute_result"
    }
   ],
   "source": [
    "knn.fit(x_train_trf,y_train)"
   ]
  },
  {
   "cell_type": "code",
   "execution_count": 91,
   "metadata": {},
   "outputs": [],
   "source": [
    "y_predict=knn.predict(x_test_trf)"
   ]
  },
  {
   "cell_type": "code",
   "execution_count": 92,
   "metadata": {},
   "outputs": [],
   "source": [
    "from sklearn.metrics import accuracy_score"
   ]
  },
  {
   "cell_type": "code",
   "execution_count": 93,
   "metadata": {},
   "outputs": [
    {
     "data": {
      "text/plain": [
       "0.8166666666666667"
      ]
     },
     "execution_count": 93,
     "metadata": {},
     "output_type": "execute_result"
    }
   ],
   "source": [
    "accuracy_score(y_test,y_predict)"
   ]
  },
  {
   "cell_type": "code",
   "execution_count": 95,
   "metadata": {},
   "outputs": [
    {
     "name": "stdout",
     "output_type": "stream",
     "text": [
      "0.48333333333333334\n",
      "0.8666666666666667\n",
      "0.7833333333333333\n",
      "0.8333333333333334\n",
      "0.8166666666666667\n",
      "0.8166666666666667\n",
      "0.8166666666666667\n",
      "0.8166666666666667\n"
     ]
    }
   ],
   "source": [
    "for i in range(1,9):\n",
    "    pca=PCA(n_components=i)\n",
    "    x_train_trf=pca.fit_transform(x_train)\n",
    "    x_test_trf=pca.transform(x_test)\n",
    "    from sklearn.neighbors import KNeighborsClassifier\n",
    "    knn=KNeighborsClassifier()\n",
    "    knn.fit(x_train_trf,y_train)\n",
    "    y_predict=knn.predict(x_test_trf)\n",
    "    from sklearn.metrics import accuracy_score\n",
    "    print(accuracy_score(y_test,y_predict))"
   ]
  },
  {
   "cell_type": "code",
   "execution_count": 99,
   "metadata": {},
   "outputs": [
    {
     "name": "stdout",
     "output_type": "stream",
     "text": [
      "0.8666666666666667\n"
     ]
    }
   ],
   "source": [
    "pca=PCA(n_components=2)\n",
    "x_train_trf=pca.fit_transform(x_train)\n",
    "x_test_trf=pca.transform(x_test)\n",
    "from sklearn.neighbors import KNeighborsClassifier\n",
    "knn=KNeighborsClassifier()\n",
    "knn.fit(x_train_trf,y_train)\n",
    "y_predict=knn.predict(x_test_trf)\n",
    "from sklearn.metrics import accuracy_score\n",
    "print(accuracy_score(y_test,y_predict))"
   ]
  },
  {
   "cell_type": "code",
   "execution_count": 105,
   "metadata": {},
   "outputs": [
    {
     "data": {
      "text/plain": [
       "array([[-1.62423117, -0.81076754],\n",
       "       [ 1.27743486,  0.83064877],\n",
       "       [ 4.35997046, -1.95794642],\n",
       "       [-1.70767207, -1.70214719],\n",
       "       [-1.58615267, -1.68594869],\n",
       "       [ 1.31946945,  1.14382834],\n",
       "       [ 4.55178464, -2.05222297],\n",
       "       [-1.21020823,  1.87056928],\n",
       "       [ 1.70587909,  0.90499652],\n",
       "       [-1.65111615, -1.69379249],\n",
       "       [ 1.42796676,  1.54688504],\n",
       "       [-1.50417131, -0.3640475 ],\n",
       "       [-1.51986575, -0.75877739],\n",
       "       [-1.78783141, -1.68410119],\n",
       "       [-1.69008358, -0.36659245],\n",
       "       [-0.66868017,  0.56629836],\n",
       "       [ 0.58708104,  2.37742434],\n",
       "       [ 1.54482803,  1.36842255],\n",
       "       [ 1.0271432 ,  2.4745362 ],\n",
       "       [-0.6278986 ,  0.88440877],\n",
       "       [-1.30361303, -1.78095413],\n",
       "       [-1.87385575, -1.1875277 ],\n",
       "       [ 4.64079819, -2.1212711 ],\n",
       "       [-2.52372958,  0.29016983],\n",
       "       [ 1.33227931,  1.98701552],\n",
       "       [ 1.90127657,  1.18427093],\n",
       "       [ 1.38784586,  2.55464526],\n",
       "       [ 1.61347057,  1.72566065],\n",
       "       [ 4.78645532, -2.34699931],\n",
       "       [ 4.89138502, -2.62208864],\n",
       "       [-1.83501222, -1.69870882],\n",
       "       [ 2.3266927 ,  1.5133228 ],\n",
       "       [ 0.65682462,  2.34596529],\n",
       "       [-1.752518  , -1.00954655],\n",
       "       [ 0.98912871,  1.30931611],\n",
       "       [ 4.47635607, -1.72174471],\n",
       "       [-1.92902982, -1.2310584 ],\n",
       "       [-1.43898022, -1.85392079],\n",
       "       [-0.6370766 ,  0.57160141],\n",
       "       [ 1.32232052,  2.05317865],\n",
       "       [-1.54260415, -0.77042612],\n",
       "       [ 1.16341821,  2.4311884 ],\n",
       "       [ 1.7785293 ,  0.33968899],\n",
       "       [-1.66322639, -1.62337383],\n",
       "       [-1.20624133,  1.79346935],\n",
       "       [-1.83750978, -0.66731608],\n",
       "       [-1.4846072 , -0.92395215],\n",
       "       [ 4.52909322, -1.77996374],\n",
       "       [-1.33976574, -1.81006864],\n",
       "       [ 1.58108764,  1.40094998],\n",
       "       [-1.39928717, -1.31046886],\n",
       "       [-1.13584434,  1.78819828],\n",
       "       [ 0.97079073,  1.95335362],\n",
       "       [-0.75871698,  1.65533052],\n",
       "       [-1.44764889,  2.02731244],\n",
       "       [ 1.95977388,  1.17119141],\n",
       "       [-1.85830701, -0.84664229],\n",
       "       [-0.95942362,  0.47452202],\n",
       "       [-1.51762527, -1.69613986],\n",
       "       [-2.02101659, -0.47872274],\n",
       "       [ 1.53967719,  1.00426465],\n",
       "       [-1.62431201, -1.64681795],\n",
       "       [-1.61508011, -1.72386936],\n",
       "       [-1.87551617, -1.21706486],\n",
       "       [-1.41229835, -1.04501941],\n",
       "       [-1.12467141,  1.98870377],\n",
       "       [ 1.60491793,  1.10337964],\n",
       "       [-1.92493712, -0.75878059],\n",
       "       [-1.58146013, -1.44597385],\n",
       "       [-0.76584974,  0.80305263],\n",
       "       [-1.70302717, -0.89874682],\n",
       "       [ 2.28133023,  1.74125654],\n",
       "       [-1.9730865 , -1.25732278],\n",
       "       [ 1.91492889,  1.16371477],\n",
       "       [-0.78479338,  0.90814476],\n",
       "       [-0.87966424,  0.74459329],\n",
       "       [-1.71067002, -1.42481682],\n",
       "       [-1.73515252, -1.23423556],\n",
       "       [-1.82246062, -1.59858831],\n",
       "       [ 4.85375784, -2.56003219],\n",
       "       [ 2.10183715,  1.12727469],\n",
       "       [-1.38627689, -1.06037472],\n",
       "       [-1.73373243, -1.65867995],\n",
       "       [-1.58136313, -0.71414547],\n",
       "       [-1.64457019, -0.78939617],\n",
       "       [-1.08671499,  1.85121573],\n",
       "       [-1.65543146, -0.7346077 ],\n",
       "       [ 1.06718229,  1.70835673],\n",
       "       [ 1.87341338,  0.52079547],\n",
       "       [ 0.7828461 ,  2.22862887],\n",
       "       [-0.59672405,  0.3952143 ],\n",
       "       [ 1.48126816,  1.48853257],\n",
       "       [-1.72675295, -0.80389016],\n",
       "       [-1.78498856, -1.50307675],\n",
       "       [-0.66949722,  0.79630811],\n",
       "       [-1.17916059,  2.01562931],\n",
       "       [-1.8299079 , -0.57992767],\n",
       "       [ 0.91088107,  1.86513576],\n",
       "       [-1.66841058, -1.68243773],\n",
       "       [ 0.79176394,  2.39349894],\n",
       "       [-1.59764698, -0.78199633],\n",
       "       [-1.22084516, -1.83485952],\n",
       "       [ 4.65811498, -2.47057672],\n",
       "       [ 1.807073  ,  0.60741077],\n",
       "       [ 4.78609122, -2.24459917],\n",
       "       [-1.37542865, -1.25519284],\n",
       "       [-0.26636294,  0.16696151],\n",
       "       [-1.15908555,  1.87561776],\n",
       "       [-1.65658104, -1.48843432],\n",
       "       [ 1.72789832,  0.45757578],\n",
       "       [ 1.00975992,  2.24318939],\n",
       "       [-1.69341333, -0.82643815],\n",
       "       [-1.22598062,  1.81800659],\n",
       "       [ 1.80809369,  0.8215751 ],\n",
       "       [ 1.52316652,  1.46094289],\n",
       "       [-1.2798837 ,  2.03926992],\n",
       "       [-1.24345478, -0.79119517],\n",
       "       [ 4.65838759, -2.48715083],\n",
       "       [-0.64014259,  0.577189  ],\n",
       "       [-1.35481754, -1.12806191],\n",
       "       [-1.60605141, -2.00159544],\n",
       "       [ 5.06096455, -2.56077828],\n",
       "       [-0.6225819 ,  0.64757111],\n",
       "       [-0.92512824,  0.63433746],\n",
       "       [ 2.30697961,  1.58975045],\n",
       "       [-1.0216728 ,  1.91527862],\n",
       "       [-1.1660621 ,  1.80271273],\n",
       "       [-1.53480601, -1.68405977],\n",
       "       [ 1.44007563,  1.3720591 ],\n",
       "       [ 1.29403652,  0.60941864],\n",
       "       [ 1.17041855,  2.24019424],\n",
       "       [-1.25139486, -1.69295493],\n",
       "       [-2.16420345, -0.29743707],\n",
       "       [-1.76972383, -1.67469653],\n",
       "       [-1.0887012 ,  1.78618513],\n",
       "       [ 4.94269869, -2.6273357 ],\n",
       "       [-0.32850482,  0.24017833],\n",
       "       [-1.18353124,  1.90213986],\n",
       "       [ 4.50196867, -2.3209893 ],\n",
       "       [-1.88474297, -0.69389165],\n",
       "       [ 4.51814853, -2.05604439],\n",
       "       [-2.45679406,  0.25803286],\n",
       "       [ 1.68216536,  0.68013354],\n",
       "       [-1.97105021, -1.34195519],\n",
       "       [-1.54289492, -1.78755732],\n",
       "       [-2.42512683, -0.20798597],\n",
       "       [-0.58172256,  0.8205436 ],\n",
       "       [-1.70395   , -0.61547969],\n",
       "       [ 1.15990704,  1.82019657],\n",
       "       [-1.91344848, -0.53298516],\n",
       "       [-1.65072643, -0.68149491],\n",
       "       [-0.70855774,  0.63328488],\n",
       "       [ 4.9038461 , -2.56557865],\n",
       "       [ 0.90647093,  2.6172254 ],\n",
       "       [-1.09184359,  1.86155755],\n",
       "       [ 1.26006673,  1.55828144],\n",
       "       [ 0.96451683,  1.70298737],\n",
       "       [-0.83845196,  0.77922237],\n",
       "       [-1.73141638, -1.44449892],\n",
       "       [ 1.68417528,  0.53962134],\n",
       "       [-1.775389  , -0.88218548],\n",
       "       [-0.67759505,  0.68203902],\n",
       "       [-2.6211713 ,  0.22496425],\n",
       "       [-1.73610738, -1.65321534],\n",
       "       [ 4.28378867, -2.01925046],\n",
       "       [-1.15562452,  1.84820968],\n",
       "       [ 2.10620666,  1.08212523],\n",
       "       [ 0.5734768 ,  2.04191831],\n",
       "       [-1.39906109, -1.01066742],\n",
       "       [-2.55794713,  0.41203513],\n",
       "       [ 1.6654938 ,  0.67164456],\n",
       "       [-1.17055183,  1.77437387],\n",
       "       [-0.77213096,  0.82725589],\n",
       "       [-1.1302409 ,  1.66373345],\n",
       "       [-1.87757169, -1.54445714],\n",
       "       [ 4.50032771, -2.02424526],\n",
       "       [ 1.82992618,  0.66563579],\n",
       "       [ 1.45283145,  1.52366293],\n",
       "       [-1.41680656,  2.23538943],\n",
       "       [-1.4545138 , -0.96194579],\n",
       "       [-0.97011906,  0.94606198],\n",
       "       [-1.6848708 , -1.98881372],\n",
       "       [-1.72306091, -1.84428347],\n",
       "       [ 1.02089656,  1.56106903],\n",
       "       [-1.51473713, -1.20603396],\n",
       "       [-1.69008358, -0.36659245],\n",
       "       [-2.03888549, -0.91830382],\n",
       "       [-1.94382289, -0.47236444],\n",
       "       [-1.06455228,  1.97724989],\n",
       "       [ 4.51478635, -2.1803764 ],\n",
       "       [ 1.42658435,  1.55909151],\n",
       "       [ 1.7742533 ,  0.81981026],\n",
       "       [-1.24345478, -0.79119517],\n",
       "       [ 5.07355952, -2.41205293],\n",
       "       [-1.36546217, -1.11908411],\n",
       "       [ 1.51087462,  1.45929992],\n",
       "       [ 1.62190234,  0.61521535],\n",
       "       [ 1.02414296,  2.66218875],\n",
       "       [-1.69589188, -1.635542  ],\n",
       "       [ 1.7631914 ,  0.55732271],\n",
       "       [ 1.53826205,  1.3377347 ],\n",
       "       [ 1.79113478,  0.78153002],\n",
       "       [-1.17203627,  1.74147903],\n",
       "       [ 4.46649374, -2.18698342],\n",
       "       [ 2.08380345,  1.04214628],\n",
       "       [-1.7958467 , -1.31431996],\n",
       "       [-0.36770231,  0.33808041],\n",
       "       [-1.81366482, -0.44124937],\n",
       "       [-0.64902981,  0.48977856],\n",
       "       [-1.08654246,  1.5574812 ],\n",
       "       [ 1.20222669,  1.36239831],\n",
       "       [ 1.78991636,  0.4916526 ],\n",
       "       [-1.49661641, -1.81641102],\n",
       "       [-1.74714529, -1.5663019 ],\n",
       "       [-0.84997634,  0.89732265],\n",
       "       [-1.82531856, -1.57316977],\n",
       "       [-1.65659224, -1.57282843],\n",
       "       [ 1.19446025,  0.84109976],\n",
       "       [ 1.52693171,  1.1192052 ],\n",
       "       [-1.62780765, -1.06250758],\n",
       "       [-1.03250832,  1.8664379 ],\n",
       "       [ 4.84919954, -2.6585815 ],\n",
       "       [-1.73011756, -1.45180798],\n",
       "       [-0.59158766,  0.61797329],\n",
       "       [-1.34447725, -2.12231025],\n",
       "       [-1.1969915 ,  1.85232659],\n",
       "       [-1.77997226, -1.39655719],\n",
       "       [-1.85675512, -0.70323525],\n",
       "       [-1.48207363, -1.82321758],\n",
       "       [ 1.33366543,  1.60245339],\n",
       "       [ 2.07071236,  1.15636134],\n",
       "       [-1.77682641, -1.13433633],\n",
       "       [-1.68639074, -0.83480879],\n",
       "       [-0.87966424,  0.74459329],\n",
       "       [ 4.88426072, -2.8364465 ],\n",
       "       [-1.72736455, -1.5005897 ],\n",
       "       [ 0.97591118,  1.9038369 ],\n",
       "       [ 1.43473432,  1.46250218],\n",
       "       [-0.84997634,  0.89732265],\n",
       "       [ 2.3275611 ,  1.63840418]])"
      ]
     },
     "execution_count": 105,
     "metadata": {},
     "output_type": "execute_result"
    }
   ],
   "source": [
    "x_train_trf"
   ]
  },
  {
   "cell_type": "code",
   "execution_count": 106,
   "metadata": {},
   "outputs": [
    {
     "data": {
      "text/plain": [
       "(240, 2)"
      ]
     },
     "execution_count": 106,
     "metadata": {},
     "output_type": "execute_result"
    }
   ],
   "source": [
    "x_train_trf.shape"
   ]
  },
  {
   "cell_type": "code",
   "execution_count": 107,
   "metadata": {},
   "outputs": [
    {
     "data": {
      "text/plain": [
       "array([4.19729847, 2.27874136])"
      ]
     },
     "execution_count": 107,
     "metadata": {},
     "output_type": "execute_result"
    }
   ],
   "source": [
    "pca.explained_variance_\n",
    "# eigen_values"
   ]
  },
  {
   "cell_type": "code",
   "execution_count": 108,
   "metadata": {},
   "outputs": [
    {
     "data": {
      "text/plain": [
       "array([0.52247622, 0.28365583])"
      ]
     },
     "execution_count": 108,
     "metadata": {},
     "output_type": "execute_result"
    }
   ],
   "source": [
    "pca.explained_variance_ratio_"
   ]
  },
  {
   "cell_type": "code",
   "execution_count": 113,
   "metadata": {},
   "outputs": [
    {
     "data": {
      "text/plain": [
       "(2, 8)"
      ]
     },
     "execution_count": 113,
     "metadata": {},
     "output_type": "execute_result"
    }
   ],
   "source": [
    "pca.components_.shape\n",
    "# eigen vector\n",
    "\n",
    "# there are 2 vector or  in each vecotr 8 component present"
   ]
  },
  {
   "cell_type": "code",
   "execution_count": 116,
   "metadata": {},
   "outputs": [
    {
     "data": {
      "text/plain": [
       "array([[-0.00801822,  0.05255849,  0.37793658,  0.4471445 ,  0.47035357,\n",
       "         0.43833477, -0.42131841,  0.25203172],\n",
       "       [ 0.00416673,  0.63393743,  0.26654372, -0.22951539,  0.11506294,\n",
       "        -0.18666565, -0.32870098, -0.56414114]])"
      ]
     },
     "execution_count": 116,
     "metadata": {},
     "output_type": "execute_result"
    }
   ],
   "source": [
    "pca.components_"
   ]
  },
  {
   "cell_type": "code",
   "execution_count": 118,
   "metadata": {},
   "outputs": [
    {
     "data": {
      "text/plain": [
       "array([0.52247622, 0.28365583])"
      ]
     },
     "execution_count": 118,
     "metadata": {},
     "output_type": "execute_result"
    }
   ],
   "source": [
    "# 1st vector tells the 50  varirance of original data \n",
    "\n",
    "# # 2nd vector tells the 28 varirance of original data \n",
    "\n",
    "pca.explained_variance_ratio_"
   ]
  },
  {
   "cell_type": "code",
   "execution_count": 119,
   "metadata": {},
   "outputs": [
    {
     "name": "stdout",
     "output_type": "stream",
     "text": [
      "0.8166666666666667\n"
     ]
    }
   ],
   "source": [
    "pca=PCA(n_components=None)\n",
    "x_train_trf=pca.fit_transform(x_train)\n",
    "x_test_trf=pca.transform(x_test)\n",
    "from sklearn.neighbors import KNeighborsClassifier\n",
    "knn=KNeighborsClassifier()\n",
    "knn.fit(x_train_trf,y_train)\n",
    "y_predict=knn.predict(x_test_trf)\n",
    "from sklearn.metrics import accuracy_score\n",
    "print(accuracy_score(y_test,y_predict))"
   ]
  },
  {
   "cell_type": "code",
   "execution_count": 120,
   "metadata": {},
   "outputs": [
    {
     "data": {
      "text/plain": [
       "array([4.19729847e+00, 2.27874136e+00, 1.01427225e+00, 4.13877892e-01,\n",
       "       9.93485567e-02, 2.99059541e-02, 2.55058890e-05, 2.81624956e-06])"
      ]
     },
     "execution_count": 120,
     "metadata": {},
     "output_type": "execute_result"
    }
   ],
   "source": [
    "pca.explained_variance_"
   ]
  },
  {
   "cell_type": "code",
   "execution_count": 122,
   "metadata": {},
   "outputs": [
    {
     "data": {
      "text/plain": [
       "(8,)"
      ]
     },
     "execution_count": 122,
     "metadata": {},
     "output_type": "execute_result"
    }
   ],
   "source": [
    "pca.explained_variance_.shape"
   ]
  },
  {
   "cell_type": "code",
   "execution_count": 123,
   "metadata": {},
   "outputs": [
    {
     "data": {
      "text/plain": [
       "array([[-8.01822299e-03,  5.25584943e-02,  3.77936584e-01,\n",
       "         4.47144501e-01,  4.70353575e-01,  4.38334769e-01,\n",
       "        -4.21318410e-01,  2.52031722e-01],\n",
       "       [ 4.16672941e-03,  6.33937426e-01,  2.66543719e-01,\n",
       "        -2.29515393e-01,  1.15062943e-01, -1.86665647e-01,\n",
       "        -3.28700984e-01, -5.64141141e-01],\n",
       "       [ 9.91853563e-01,  5.47466576e-02, -9.59606278e-02,\n",
       "         5.12348128e-02, -8.75482637e-03,  2.95891855e-02,\n",
       "        -2.08172868e-02,  3.21529798e-03],\n",
       "       [ 1.19498596e-01, -4.08302861e-01,  7.43795173e-01,\n",
       "        -1.95719849e-01,  5.28141231e-02, -4.59155550e-01,\n",
       "         5.10095397e-02,  1.06095318e-01],\n",
       "       [ 3.69141255e-02, -2.19135199e-01, -1.20323645e-02,\n",
       "        -5.06501619e-01,  5.57561533e-01,  4.39204068e-01,\n",
       "         3.38760917e-01, -2.74580423e-01],\n",
       "       [-2.24058470e-02, -4.08955658e-03, -3.85284242e-01,\n",
       "         1.76958215e-01,  6.67347603e-01, -6.06975029e-01,\n",
       "         1.77278453e-03,  7.71261578e-02],\n",
       "       [ 5.16293585e-04,  5.21399014e-01,  5.48262180e-02,\n",
       "        -4.34914554e-01,  6.76779547e-02,  2.53053873e-04,\n",
       "         1.54609343e-01,  7.12391606e-01],\n",
       "       [-2.18187964e-06,  3.25205521e-01,  2.68484716e-01,\n",
       "         4.79003596e-01,  4.30588251e-02, -5.14873194e-04,\n",
       "         7.56799166e-01, -1.34586689e-01]])"
      ]
     },
     "execution_count": 123,
     "metadata": {},
     "output_type": "execute_result"
    }
   ],
   "source": [
    "pca.components_"
   ]
  },
  {
   "cell_type": "code",
   "execution_count": 124,
   "metadata": {},
   "outputs": [
    {
     "data": {
      "text/plain": [
       "(8, 8)"
      ]
     },
     "execution_count": 124,
     "metadata": {},
     "output_type": "execute_result"
    }
   ],
   "source": [
    "pca.components_.shape"
   ]
  },
  {
   "cell_type": "code",
   "execution_count": 125,
   "metadata": {},
   "outputs": [
    {
     "data": {
      "text/plain": [
       "array([5.22476216e-01, 2.83655825e-01, 1.26255765e-01, 5.15191751e-02,\n",
       "       1.23668255e-02, 3.72266824e-03, 3.17495181e-06, 3.50564399e-07])"
      ]
     },
     "execution_count": 125,
     "metadata": {},
     "output_type": "execute_result"
    }
   ],
   "source": [
    "pca.explained_variance_ratio_"
   ]
  },
  {
   "cell_type": "code",
   "execution_count": 126,
   "metadata": {},
   "outputs": [
    {
     "data": {
      "text/plain": [
       "array([0.52247622, 0.80613204, 0.93238781, 0.98390698, 0.99627381,\n",
       "       0.99999647, 0.99999965, 1.        ])"
      ]
     },
     "execution_count": 126,
     "metadata": {},
     "output_type": "execute_result"
    }
   ],
   "source": [
    "np.cumsum(pca.explained_variance_ratio_)"
   ]
  },
  {
   "cell_type": "code",
   "execution_count": 128,
   "metadata": {},
   "outputs": [
    {
     "data": {
      "text/plain": [
       "[<matplotlib.lines.Line2D at 0x2613e5d0ad0>]"
      ]
     },
     "execution_count": 128,
     "metadata": {},
     "output_type": "execute_result"
    },
    {
     "data": {
      "image/png": "[encoded data removed]",
      "text/plain": [
       "<Figure size 640x480 with 1 Axes>"
      ]
     },
     "metadata": {},
     "output_type": "display_data"
    }
   ],
   "source": [
    "import matplotlib.pyplot as plt\n",
    "plt.plot(np.cumsum(pca.explained_variance_ratio_))"
   ]
  },
  {
   "cell_type": "code",
   "execution_count": null,
   "metadata": {},
   "outputs": [],
   "source": []
  }
 ],
 "metadata": {
  "kernelspec": {
   "display_name": "Python 3",
   "language": "python",
   "name": "python3"
  },
  "language_info": {
   "codemirror_mode": {
    "name": "ipython",
    "version": 3
   },
   "file_extension": ".py",
   "mimetype": "text/x-python",
   "name": "python",
   "nbconvert_exporter": "python",
   "pygments_lexer": "ipython3",
   "version": "3.11.9"
  }
 },
 "nbformat": 4,
 "nbformat_minor": 2
}
